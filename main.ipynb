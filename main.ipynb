{
 "cells": [
  {
   "cell_type": "markdown",
   "metadata": {},
   "source": [
    "# $\\textit{Predicción lineal}$\n",
    "$\\textit{By Agustín Luís Gullino - Gonzalo Ezequiel Linares}$"
   ]
  },
  {
   "cell_type": "code",
   "execution_count": 4,
   "metadata": {},
   "outputs": [],
   "source": [
    "import pandas as pd\n",
    "import numpy as np\n",
    "import matplotlib.pyplot as plt\n",
    "import seaborn as sns\n",
    "import scipy.signal as sp\n",
    "import helper as hp\n",
    "import importlib\n",
    "from numpy.fft import fft, rfft\n",
    "from numpy.fft import fftshift, fftfreq, rfftfreq\n",
    "importlib.reload(hp)\n",
    "\n",
    "fs = 16000  # Frecuencia de muestreo"
   ]
  },
  {
   "cell_type": "code",
   "execution_count": 5,
   "metadata": {},
   "outputs": [
    {
     "name": "stderr",
     "output_type": "stream",
     "text": [
      "/home/gullino18/Documents/Github/PASA_TP3/helper.py:18: WavFileWarning: Chunk (non-data) not understood, skipping it.\n",
      "  fs1, aSignal = io.wavfile.read(path[0])\n",
      "/home/gullino18/Documents/Github/PASA_TP3/helper.py:19: WavFileWarning: Chunk (non-data) not understood, skipping it.\n",
      "  fs2, shSignal = io.wavfile.read(path[1])\n"
     ]
    }
   ],
   "source": [
    "fs, signal, path = hp.getRecordedSignals()"
   ]
  },
  {
   "cell_type": "code",
   "execution_count": 7,
   "metadata": {},
   "outputs": [
    {
     "name": "stdout",
     "output_type": "stream",
     "text": [
      "   Augmented Dickey-Fuller Results   \n",
      "=====================================\n",
      "Test Statistic                 -4.030\n",
      "P-value                         0.001\n",
      "Lags                              538\n",
      "-------------------------------------\n",
      "\n",
      "Trend: Constant\n",
      "Critical Values: -3.43 (1%), -2.86 (5%), -2.57 (10%)\n",
      "Null Hypothesis: The process contains a unit root.\n",
      "Alternative Hypothesis: The process is weakly stationary.\n",
      "Dado que P-value = 0, podemos concluir que la señal de aaa es estacionaria.\n",
      "\n",
      "//////////////////////////////////////\n",
      "\n",
      "   Augmented Dickey-Fuller Results   \n",
      "=====================================\n",
      "Test Statistic                -13.106\n",
      "P-value                         0.000\n",
      "Lags                              164\n",
      "-------------------------------------\n",
      "\n",
      "Trend: Constant\n",
      "Critical Values: -3.43 (1%), -2.86 (5%), -2.57 (10%)\n",
      "Null Hypothesis: The process contains a unit root.\n",
      "Alternative Hypothesis: The process is weakly stationary.\n",
      "Dado que P-value = 0, podemos concluir que la señal de shh estacionaria.\n",
      "     Phillips-Perron Test (Z-tau)    \n",
      "=====================================\n",
      "Test Statistic                -12.481\n",
      "P-value                         0.000\n",
      "Lags                               43\n",
      "-------------------------------------\n",
      "\n",
      "Trend: Constant\n",
      "Critical Values: -3.43 (1%), -2.86 (5%), -2.57 (10%)\n",
      "Null Hypothesis: The process contains a unit root.\n",
      "Alternative Hypothesis: The process is weakly stationary.\n",
      "Dado que P-value = 0, podemos concluir que la señal de aaa estacionaria.\n",
      "\n",
      "//////////////////////////////////////\n",
      "\n",
      "     Phillips-Perron Test (Z-tau)    \n",
      "=====================================\n",
      "Test Statistic                -80.921\n",
      "P-value                         0.000\n",
      "Lags                               43\n",
      "-------------------------------------\n",
      "\n",
      "Trend: Constant\n",
      "Critical Values: -3.43 (1%), -2.86 (5%), -2.57 (10%)\n",
      "Null Hypothesis: The process contains a unit root.\n",
      "Alternative Hypothesis: The process is weakly stationary.\n",
      "Dado que P-value = 0, podemos concluir que la señal de shh estacionaria.\n"
     ]
    }
   ],
   "source": [
    "from arch.unitroot import ADF\n",
    "from arch.unitroot import PhillipsPerron\n",
    "\n",
    "''' \n",
    "Para el test, se tiene en cuenta que las hipotesis son:\n",
    "\n",
    "H0: La serie contiene raiz unitaria.\n",
    "H1: La serie es estacionaria.\n",
    "\n",
    "Si el p-valor esta por encima del critico, la hipotesis nula no puede ser rechazada, indicando que \n",
    "la serie no es estacionaria.\n",
    "'''\n",
    "\n",
    "norm1 = signal[\"a\"]\n",
    "norm2 = signal[\"sh\"]\n",
    "max_lags_test=len(signal[\"a\"])//10\n",
    "\n",
    "adf = ADF(norm1, max_lags=max_lags_test)\n",
    "print(adf.summary().as_text())\n",
    "print(\"Dado que P-value = 0, podemos concluir que la señal de aaa es estacionaria.\")\n",
    "print('\\n//////////////////////////////////////\\n')\n",
    "\n",
    "adf = ADF(norm2, max_lags=max_lags_test)\n",
    "print(adf.summary().as_text())\n",
    "print(\"Dado que P-value = 0, podemos concluir que la señal de shh estacionaria.\")\n",
    "\n",
    "pp = PhillipsPerron(norm1)\n",
    "print(pp.summary().as_text())\n",
    "print(\"Dado que P-value = 0, podemos concluir que la señal de aaa estacionaria.\")\n",
    "print('\\n//////////////////////////////////////\\n')\n",
    "\n",
    "pp = PhillipsPerron(norm2)\n",
    "print(pp.summary().as_text())\n",
    "print(\"Dado que P-value = 0, podemos concluir que la señal de shh estacionaria.\")"
   ]
  },
  {
   "cell_type": "code",
   "execution_count": null,
   "metadata": {},
   "outputs": [],
   "source": [
    "Ms = np.linspace(1, 30, 30, dtype=int)\n",
    "jos_a = np.zeros(len(Ms))\n",
    "jos_sh = np.zeros(len(Ms))\n",
    "a_a = np.zeros((len(Ms), len(Ms)+1))\n",
    "a_sh = np.zeros((len(Ms), len(Ms)+1))\n",
    "\n",
    "fig, axs = plt.subplots(nrows=1, ncols=2, figsize=(10, 5))\n",
    "for i, M in enumerate(Ms):\n",
    "    wo, jo, NMSE = hp.get_optimal_params(signal[\"a\"][:-1], signal[\"a\"], M)\n",
    "    jos_a[i] = jo\n",
    "    a_a[i][:i+2] = np.insert(-wo, 0, 1) \n",
    "\n",
    "    wo, jo, NMSE = hp.get_optimal_params(signal[\"sh\"][:-1], signal[\"sh\"], M)\n",
    "    jos_sh[i] = jo\n",
    "    a_sh[i][:i+2] = np.insert(-wo, 0, 1) \n",
    "\n",
    "axs[0].set_xlabel('M')\n",
    "axs[0].set_ylabel('MSE mínimo')\n",
    "axs[0].plot(Ms, jos_a)\n",
    "\n",
    "axs[1].set_xlabel('M')\n",
    "axs[1].set_ylabel('MSE mínimo')\n",
    "axs[1].plot(Ms, jos_sh)"
   ]
  },
  {
   "cell_type": "code",
   "execution_count": 16,
   "metadata": {},
   "outputs": [
    {
     "ename": "NameError",
     "evalue": "name 'a_a' is not defined",
     "output_type": "error",
     "traceback": [
      "\u001b[0;31m---------------------------------------------------------------------------\u001b[0m",
      "\u001b[0;31mNameError\u001b[0m                                 Traceback (most recent call last)",
      "\u001b[1;32m/home/gullino18/Documents/Github/PASA_TP3/main.ipynb Cell 6\u001b[0m line \u001b[0;36m1\n\u001b[0;32m----> <a href='vscode-notebook-cell:/home/gullino18/Documents/Github/PASA_TP3/main.ipynb#X26sZmlsZQ%3D%3D?line=0'>1</a>\u001b[0m e_foa \u001b[39m=\u001b[39m np\u001b[39m.\u001b[39mconvolve(a_a[\u001b[39m28\u001b[39m], signal[\u001b[39m\"\u001b[39m\u001b[39ma\u001b[39m\u001b[39m\"\u001b[39m])\n",
      "\u001b[0;31mNameError\u001b[0m: name 'a_a' is not defined"
     ]
    }
   ],
   "source": [
    "e_foa = np.convolve(a_a[28], signal[\"a\"])"
   ]
  },
  {
   "cell_type": "code",
   "execution_count": null,
   "metadata": {},
   "outputs": [],
   "source": [
    "plt.figure()\n",
    "plt.plot(e_foa)"
   ]
  },
  {
   "cell_type": "code",
   "execution_count": null,
   "metadata": {},
   "outputs": [],
   "source": [
    "box = rfft(SquareW, N*10)\n",
    "freq = rfftfreq(N*10, 1/fs)\n",
    "response = 10*np.log10((np.abs(A)+1e-1) / abs(A).max())\n",
    "responsebox = 10*np.log10((np.abs(box)+1e-18) / abs(box).max())\n",
    "\n",
    "axs[1].set_title(\"Frec. response\")\n",
    "axs[1].plot(freq, responsebox, label='Box')\n",
    "axs[1].plot(freq, response, label='blackman')\n",
    "axs[1].set_xlabel(\"frecuency\")\n",
    "axs[1].set_ylabel(\"dB\")\n",
    "axs[1].set_xscale('log')\n",
    "axs[1].set_ylim(-80, 1)\n",
    "plt.legend()"
   ]
  }
 ],
 "metadata": {
  "kernelspec": {
   "display_name": "Python 3",
   "language": "python",
   "name": "python3"
  },
  "language_info": {
   "codemirror_mode": {
    "name": "ipython",
    "version": 3
   },
   "file_extension": ".py",
   "mimetype": "text/x-python",
   "name": "python",
   "nbconvert_exporter": "python",
   "pygments_lexer": "ipython3",
   "version": "3.10.11"
  },
  "orig_nbformat": 4
 },
 "nbformat": 4,
 "nbformat_minor": 2
}
